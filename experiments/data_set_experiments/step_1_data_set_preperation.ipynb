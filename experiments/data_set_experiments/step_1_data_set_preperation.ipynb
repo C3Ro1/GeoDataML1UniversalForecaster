{
 "cells": [
  {
   "metadata": {},
   "cell_type": "markdown",
   "source": [
    "This Notebook will not be as verbose as the other ones as it is purely for the purpose to have the data ready for usage in the model later on.\n",
    "\n",
    "No Steps within this notebook will be relevant for the report, but rather relevant to have the data accessible and usable in python."
   ],
   "id": "3782b7939ffe7257"
  },
  {
   "cell_type": "code",
   "id": "initial_id",
   "metadata": {
    "collapsed": true,
    "ExecuteTime": {
     "end_time": "2024-08-21T16:31:20.453726Z",
     "start_time": "2024-08-21T16:31:20.377643Z"
    }
   },
   "source": [
    "import pandas as pd\n",
    "from gluonts.dataset.pandas import PandasDataset\n",
    "from gluonts.dataset import split\n",
    "import xarray as ar\n",
    "import cartopy\n",
    "import scipy"
   ],
   "outputs": [],
   "execution_count": 20
  },
  {
   "metadata": {
    "ExecuteTime": {
     "end_time": "2024-08-21T16:34:51.531080Z",
     "start_time": "2024-08-21T16:34:50.779901Z"
    }
   },
   "cell_type": "code",
   "source": [
    "#import all the data sets\n",
    "climate = pd.read_csv(\"../../data/climate-daily.csv\", header=0)"
   ],
   "id": "b3d15ec8335d1fd5",
   "outputs": [
    {
     "name": "stderr",
     "output_type": "stream",
     "text": [
      "C:\\Users\\data-\\AppData\\Local\\Temp\\ipykernel_14072\\1956721483.py:2: DtypeWarning: Columns (9,15,18,24,33) have mixed types. Specify dtype option on import or set low_memory=False.\n",
      "  climate = pd.read_csv(\"../../data/climate-daily.csv\", header=0)\n"
     ]
    }
   ],
   "execution_count": 30
  },
  {
   "metadata": {
    "ExecuteTime": {
     "end_time": "2024-08-21T16:34:54.511244Z",
     "start_time": "2024-08-21T16:34:54.131121Z"
    }
   },
   "cell_type": "code",
   "source": [
    "for index in climate.dtypes.index:\n",
    "    if climate.dtypes[index] == \"object\": \n",
    "        climate[index] = climate[index].astype('str')\n"
   ],
   "id": "a534a247415faf1a",
   "outputs": [],
   "execution_count": 31
  },
  {
   "metadata": {
    "ExecuteTime": {
     "end_time": "2024-08-21T16:40:52.236343Z",
     "start_time": "2024-08-21T16:40:52.218061Z"
    }
   },
   "cell_type": "code",
   "source": [
    "climate[\"lon\"] = climate[\"x\"]\n",
    "climate[\"lat\"] = climate[\"y\"]"
   ],
   "id": "2daef3f18bce6792",
   "outputs": [],
   "execution_count": 45
  },
  {
   "metadata": {
    "ExecuteTime": {
     "end_time": "2024-08-21T16:45:31.494828Z",
     "start_time": "2024-08-21T16:45:31.455755Z"
    }
   },
   "cell_type": "code",
   "source": "climate.columns",
   "id": "dbea129857dbe41a",
   "outputs": [
    {
     "data": {
      "text/plain": [
       "Index(['x', 'y', 'LOCAL_MONTH', 'TOTAL_SNOW_FLAG', 'PROVINCE_CODE',\n",
       "       'MAX_REL_HUMIDITY', 'HEATING_DEGREE_DAYS', 'STATION_NAME',\n",
       "       'COOLING_DEGREE_DAYS_FLAG', 'MIN_REL_HUMIDITY_FLAG',\n",
       "       'SNOW_ON_GROUND_FLAG', 'LOCAL_YEAR', 'MAX_TEMPERATURE',\n",
       "       'SPEED_MAX_GUST', 'TOTAL_SNOW', 'CLIMATE_IDENTIFIER',\n",
       "       'MAX_TEMPERATURE_FLAG', 'DIRECTION_MAX_GUST', 'DIRECTION_MAX_GUST_FLAG',\n",
       "       'TOTAL_RAIN', 'COOLING_DEGREE_DAYS', 'MEAN_TEMPERATURE_FLAG',\n",
       "       'MIN_TEMPERATURE', 'MIN_REL_HUMIDITY', 'MAX_REL_HUMIDITY_FLAG', 'ID',\n",
       "       'TOTAL_RAIN_FLAG', 'MIN_TEMPERATURE_FLAG', 'TOTAL_PRECIPITATION_FLAG',\n",
       "       'TOTAL_PRECIPITATION', 'SNOW_ON_GROUND', 'HEATING_DEGREE_DAYS_FLAG',\n",
       "       'LOCAL_DATE', 'SPEED_MAX_GUST_FLAG', 'LOCAL_DAY', 'MEAN_TEMPERATURE',\n",
       "       'lat', 'lon'],\n",
       "      dtype='object')"
      ]
     },
     "execution_count": 47,
     "metadata": {},
     "output_type": "execute_result"
    }
   ],
   "execution_count": 47
  },
  {
   "metadata": {
    "ExecuteTime": {
     "end_time": "2024-08-21T16:52:50.930506Z",
     "start_time": "2024-08-21T16:52:50.869470Z"
    }
   },
   "cell_type": "code",
   "source": [
    "columns = [\"STATION_NAME\",\"MAX_REL_HUMIDITY\",\"TOTAL_PRECIPITATION\",\"MEAN_TEMPERATURE\",\"MIN_TEMPERATURE\",\"MAX_TEMPERATURE\",\"LOCAL_DATE\",\"SNOW_ON_GROUND\"]\n",
    "relevant_climate = climate[columns]"
   ],
   "id": "8a5646c4b0077981",
   "outputs": [],
   "execution_count": 53
  },
  {
   "metadata": {
    "ExecuteTime": {
     "end_time": "2024-08-21T16:57:45.652532Z",
     "start_time": "2024-08-21T16:57:45.624470Z"
    }
   },
   "cell_type": "code",
   "source": [
    "#display(relevant_climate)\n",
    "count = relevant_climate.groupby(\"STATION_NAME\").count()"
   ],
   "id": "87ae51cd9e013c1b",
   "outputs": [],
   "execution_count": 56
  },
  {
   "metadata": {
    "ExecuteTime": {
     "end_time": "2024-08-21T16:57:56.215086Z",
     "start_time": "2024-08-21T16:57:56.187093Z"
    }
   },
   "cell_type": "code",
   "source": "display(count)",
   "id": "e47cc9ce90352255",
   "outputs": [
    {
     "data": {
      "text/plain": [
       "                 MAX_REL_HUMIDITY  TOTAL_PRECIPITATION  MEAN_TEMPERATURE  \\\n",
       "STATION_NAME                                                               \n",
       "BACCARO POINT                   0                    0               605   \n",
       "BAS CARAQUET                    0                10834              4354   \n",
       "CHURCHILL A                   821                14308             14312   \n",
       "CHURCHILL FALLS                 0                 1386               972   \n",
       "DEASE LAKE                      0                14069             15109   \n",
       "EDMUNDSTON                      0                 8593              8486   \n",
       "FLIN FLON                       0                18970             18999   \n",
       "GRAND FORKS                     0                14251             14247   \n",
       "HIGH LEVEL A                  633                  659               659   \n",
       "KENTVILLE CDA                   0                10043             10043   \n",
       "LLOYDMINSTER                    0                  668               688   \n",
       "MALAY FALLS                  1585                 4037              4390   \n",
       "MARY'S HARBOUR               4432                 6105              6644   \n",
       "MONCTON                         0                15345             15326   \n",
       "MOOSONEE                     1487                 3436              4087   \n",
       "NAIN                         3271                 4013              5893   \n",
       "SAINT JOHN                      0                  607               567   \n",
       "SUMMERSIDE                   1407                 1324              1432   \n",
       "TORONTO                         0                15017             12599   \n",
       "\n",
       "                 MIN_TEMPERATURE  MAX_TEMPERATURE  LOCAL_DATE  SNOW_ON_GROUND  \n",
       "STATION_NAME                                                                   \n",
       "BACCARO POINT                607              605         608             376  \n",
       "BAS CARAQUET                4354             4354       10834           10255  \n",
       "CHURCHILL A                14313            14312       14313           12482  \n",
       "CHURCHILL FALLS             1011             1129        1396             438  \n",
       "DEASE LAKE                 15191            15330       15574           13339  \n",
       "EDMUNDSTON                  8507             8496        8624            4324  \n",
       "FLIN FLON                  19014            19042       19083           11501  \n",
       "GRAND FORKS                14252            14252       14259            9481  \n",
       "HIGH LEVEL A                 659              659         669             659  \n",
       "KENTVILLE CDA              10043            10043       10043            9473  \n",
       "LLOYDMINSTER                 691              696         699               0  \n",
       "MALAY FALLS                 4393             4391        4441            1559  \n",
       "MARY'S HARBOUR              6716             6676        6822             662  \n",
       "MONCTON                    15330            15333       15349            7862  \n",
       "MOOSONEE                    4115             4091        4152               0  \n",
       "NAIN                        5917             5896        5972            3362  \n",
       "SAINT JOHN                   569              570         607               0  \n",
       "SUMMERSIDE                  1435             1433        1496               0  \n",
       "TORONTO                    12599            12599       15059           14710  "
      ],
      "text/html": [
       "<div>\n",
       "<style scoped>\n",
       "    .dataframe tbody tr th:only-of-type {\n",
       "        vertical-align: middle;\n",
       "    }\n",
       "\n",
       "    .dataframe tbody tr th {\n",
       "        vertical-align: top;\n",
       "    }\n",
       "\n",
       "    .dataframe thead th {\n",
       "        text-align: right;\n",
       "    }\n",
       "</style>\n",
       "<table border=\"1\" class=\"dataframe\">\n",
       "  <thead>\n",
       "    <tr style=\"text-align: right;\">\n",
       "      <th></th>\n",
       "      <th>MAX_REL_HUMIDITY</th>\n",
       "      <th>TOTAL_PRECIPITATION</th>\n",
       "      <th>MEAN_TEMPERATURE</th>\n",
       "      <th>MIN_TEMPERATURE</th>\n",
       "      <th>MAX_TEMPERATURE</th>\n",
       "      <th>LOCAL_DATE</th>\n",
       "      <th>SNOW_ON_GROUND</th>\n",
       "    </tr>\n",
       "    <tr>\n",
       "      <th>STATION_NAME</th>\n",
       "      <th></th>\n",
       "      <th></th>\n",
       "      <th></th>\n",
       "      <th></th>\n",
       "      <th></th>\n",
       "      <th></th>\n",
       "      <th></th>\n",
       "    </tr>\n",
       "  </thead>\n",
       "  <tbody>\n",
       "    <tr>\n",
       "      <th>BACCARO POINT</th>\n",
       "      <td>0</td>\n",
       "      <td>0</td>\n",
       "      <td>605</td>\n",
       "      <td>607</td>\n",
       "      <td>605</td>\n",
       "      <td>608</td>\n",
       "      <td>376</td>\n",
       "    </tr>\n",
       "    <tr>\n",
       "      <th>BAS CARAQUET</th>\n",
       "      <td>0</td>\n",
       "      <td>10834</td>\n",
       "      <td>4354</td>\n",
       "      <td>4354</td>\n",
       "      <td>4354</td>\n",
       "      <td>10834</td>\n",
       "      <td>10255</td>\n",
       "    </tr>\n",
       "    <tr>\n",
       "      <th>CHURCHILL A</th>\n",
       "      <td>821</td>\n",
       "      <td>14308</td>\n",
       "      <td>14312</td>\n",
       "      <td>14313</td>\n",
       "      <td>14312</td>\n",
       "      <td>14313</td>\n",
       "      <td>12482</td>\n",
       "    </tr>\n",
       "    <tr>\n",
       "      <th>CHURCHILL FALLS</th>\n",
       "      <td>0</td>\n",
       "      <td>1386</td>\n",
       "      <td>972</td>\n",
       "      <td>1011</td>\n",
       "      <td>1129</td>\n",
       "      <td>1396</td>\n",
       "      <td>438</td>\n",
       "    </tr>\n",
       "    <tr>\n",
       "      <th>DEASE LAKE</th>\n",
       "      <td>0</td>\n",
       "      <td>14069</td>\n",
       "      <td>15109</td>\n",
       "      <td>15191</td>\n",
       "      <td>15330</td>\n",
       "      <td>15574</td>\n",
       "      <td>13339</td>\n",
       "    </tr>\n",
       "    <tr>\n",
       "      <th>EDMUNDSTON</th>\n",
       "      <td>0</td>\n",
       "      <td>8593</td>\n",
       "      <td>8486</td>\n",
       "      <td>8507</td>\n",
       "      <td>8496</td>\n",
       "      <td>8624</td>\n",
       "      <td>4324</td>\n",
       "    </tr>\n",
       "    <tr>\n",
       "      <th>FLIN FLON</th>\n",
       "      <td>0</td>\n",
       "      <td>18970</td>\n",
       "      <td>18999</td>\n",
       "      <td>19014</td>\n",
       "      <td>19042</td>\n",
       "      <td>19083</td>\n",
       "      <td>11501</td>\n",
       "    </tr>\n",
       "    <tr>\n",
       "      <th>GRAND FORKS</th>\n",
       "      <td>0</td>\n",
       "      <td>14251</td>\n",
       "      <td>14247</td>\n",
       "      <td>14252</td>\n",
       "      <td>14252</td>\n",
       "      <td>14259</td>\n",
       "      <td>9481</td>\n",
       "    </tr>\n",
       "    <tr>\n",
       "      <th>HIGH LEVEL A</th>\n",
       "      <td>633</td>\n",
       "      <td>659</td>\n",
       "      <td>659</td>\n",
       "      <td>659</td>\n",
       "      <td>659</td>\n",
       "      <td>669</td>\n",
       "      <td>659</td>\n",
       "    </tr>\n",
       "    <tr>\n",
       "      <th>KENTVILLE CDA</th>\n",
       "      <td>0</td>\n",
       "      <td>10043</td>\n",
       "      <td>10043</td>\n",
       "      <td>10043</td>\n",
       "      <td>10043</td>\n",
       "      <td>10043</td>\n",
       "      <td>9473</td>\n",
       "    </tr>\n",
       "    <tr>\n",
       "      <th>LLOYDMINSTER</th>\n",
       "      <td>0</td>\n",
       "      <td>668</td>\n",
       "      <td>688</td>\n",
       "      <td>691</td>\n",
       "      <td>696</td>\n",
       "      <td>699</td>\n",
       "      <td>0</td>\n",
       "    </tr>\n",
       "    <tr>\n",
       "      <th>MALAY FALLS</th>\n",
       "      <td>1585</td>\n",
       "      <td>4037</td>\n",
       "      <td>4390</td>\n",
       "      <td>4393</td>\n",
       "      <td>4391</td>\n",
       "      <td>4441</td>\n",
       "      <td>1559</td>\n",
       "    </tr>\n",
       "    <tr>\n",
       "      <th>MARY'S HARBOUR</th>\n",
       "      <td>4432</td>\n",
       "      <td>6105</td>\n",
       "      <td>6644</td>\n",
       "      <td>6716</td>\n",
       "      <td>6676</td>\n",
       "      <td>6822</td>\n",
       "      <td>662</td>\n",
       "    </tr>\n",
       "    <tr>\n",
       "      <th>MONCTON</th>\n",
       "      <td>0</td>\n",
       "      <td>15345</td>\n",
       "      <td>15326</td>\n",
       "      <td>15330</td>\n",
       "      <td>15333</td>\n",
       "      <td>15349</td>\n",
       "      <td>7862</td>\n",
       "    </tr>\n",
       "    <tr>\n",
       "      <th>MOOSONEE</th>\n",
       "      <td>1487</td>\n",
       "      <td>3436</td>\n",
       "      <td>4087</td>\n",
       "      <td>4115</td>\n",
       "      <td>4091</td>\n",
       "      <td>4152</td>\n",
       "      <td>0</td>\n",
       "    </tr>\n",
       "    <tr>\n",
       "      <th>NAIN</th>\n",
       "      <td>3271</td>\n",
       "      <td>4013</td>\n",
       "      <td>5893</td>\n",
       "      <td>5917</td>\n",
       "      <td>5896</td>\n",
       "      <td>5972</td>\n",
       "      <td>3362</td>\n",
       "    </tr>\n",
       "    <tr>\n",
       "      <th>SAINT JOHN</th>\n",
       "      <td>0</td>\n",
       "      <td>607</td>\n",
       "      <td>567</td>\n",
       "      <td>569</td>\n",
       "      <td>570</td>\n",
       "      <td>607</td>\n",
       "      <td>0</td>\n",
       "    </tr>\n",
       "    <tr>\n",
       "      <th>SUMMERSIDE</th>\n",
       "      <td>1407</td>\n",
       "      <td>1324</td>\n",
       "      <td>1432</td>\n",
       "      <td>1435</td>\n",
       "      <td>1433</td>\n",
       "      <td>1496</td>\n",
       "      <td>0</td>\n",
       "    </tr>\n",
       "    <tr>\n",
       "      <th>TORONTO</th>\n",
       "      <td>0</td>\n",
       "      <td>15017</td>\n",
       "      <td>12599</td>\n",
       "      <td>12599</td>\n",
       "      <td>12599</td>\n",
       "      <td>15059</td>\n",
       "      <td>14710</td>\n",
       "    </tr>\n",
       "  </tbody>\n",
       "</table>\n",
       "</div>"
      ]
     },
     "metadata": {},
     "output_type": "display_data"
    }
   ],
   "execution_count": 57
  },
  {
   "metadata": {},
   "cell_type": "code",
   "outputs": [],
   "execution_count": null,
   "source": "",
   "id": "a9c81e74d7c9d29f"
  },
  {
   "metadata": {
    "ExecuteTime": {
     "end_time": "2024-08-21T17:00:26.373197Z",
     "start_time": "2024-08-21T17:00:26.001096Z"
    }
   },
   "cell_type": "code",
   "source": [
    "weather_station_map ={}\n",
    "north = \"\"\n",
    "east = \"\"\n",
    "south = \"\"\n",
    "west = \"\"\n",
    "\n",
    "\n",
    "for key in DGUID_map:\n",
    "    province = DGUID_map[key]\n",
    "    match province:\n",
    "        case \"Newfoundland and Labrador\":\n",
    "            north = \"Nain\"\n",
    "            east = \"Mary's Harbour\"\n",
    "            south = \"Blanc-Sablon\"\n",
    "            west = \"Churchill Falls\"\n",
    "            break\n",
    "        case \"Prince Edward Island\":\n",
    "            north = \"St. Peters\"\n",
    "            east = \"Charlottetown\"\n",
    "            south = \"Maple Plains\"\n",
    "            west = \"Summmerside\"\n",
    "            break\n",
    "        case \"Nova Scotia\":\n",
    "            north = \"Sydney\"\n",
    "            east = \"Malay Falls\"\n",
    "            south = \"Baccaro Point\"\n",
    "            west = \"Kentville\"\n",
    "            break\n",
    "        case \"New Brunswick\":\n",
    "            north = \"Bas-Caraquet\"\n",
    "            east = \"Moncton\"\n",
    "            south = \"Saint John\"\n",
    "            west = \"Edmundston\"\n",
    "            break\n",
    "        case \"Quebec\":\n",
    "            north = \"Kuujjuaq\"\n",
    "            east = \"Baie Comeau\"\n",
    "            south = \"Maniwaki\"\n",
    "            west = \"Kuujjuarapik\"\n",
    "            break\n",
    "        case \"Ontario\":\n",
    "            north = \"Moosonee\"\n",
    "            east = \"Ottawa\"\n",
    "            south = \"Toronto\"\n",
    "            west = \"Kenora\"\n",
    "            break\n",
    "        case \"Manitoba\":\n",
    "            north = \"Churchill\"\n",
    "            east = \"Gillam\"\n",
    "            south = \"Winnipeg\"\n",
    "            west = \"Flin Flon\"\n",
    "            break\n",
    "        case \"Saskatchewan\":\n",
    "            north = \"Uranium City\"\n",
    "            east = \"Yorkton\"\n",
    "            south = \"Moose Jaw\"\n",
    "            west = \"Meadow Lake\"\n",
    "            break\n",
    "        case \"Alberta\":\n",
    "            north = \"High Level\"\n",
    "            west = \"Jasper\"\n",
    "            south = \"Lethbridge\"\n",
    "            east = \"Lloydminster\"\n",
    "            break\n",
    "        case \"British Columbia\":\n",
    "            north = \"Dease Lake\"\n",
    "            west = \"Prince Rupert\"\n",
    "            south = \"Grand Forks\"\n",
    "            east = \"Prince George\"\n",
    "            break\n",
    "    \n",
    "    weather_station_map.update({province:{\"north\": north, \n",
    "                \"east\": east,\n",
    "                \"south\": south, \n",
    "                \"west\": west}})"
   ],
   "id": "d329fed123672909",
   "outputs": [
    {
     "ename": "NameError",
     "evalue": "name 'DGUID_map' is not defined",
     "output_type": "error",
     "traceback": [
      "\u001B[1;31m---------------------------------------------------------------------------\u001B[0m",
      "\u001B[1;31mNameError\u001B[0m                                 Traceback (most recent call last)",
      "Cell \u001B[1;32mIn[58], line 8\u001B[0m\n\u001B[0;32m      4\u001B[0m south \u001B[38;5;241m=\u001B[39m \u001B[38;5;124m\"\u001B[39m\u001B[38;5;124m\"\u001B[39m\n\u001B[0;32m      5\u001B[0m west \u001B[38;5;241m=\u001B[39m \u001B[38;5;124m\"\u001B[39m\u001B[38;5;124m\"\u001B[39m\n\u001B[1;32m----> 8\u001B[0m \u001B[38;5;28;01mfor\u001B[39;00m key \u001B[38;5;129;01min\u001B[39;00m \u001B[43mDGUID_map\u001B[49m:\n\u001B[0;32m      9\u001B[0m     province \u001B[38;5;241m=\u001B[39m DGUID_map[key]\n\u001B[0;32m     10\u001B[0m     \u001B[38;5;28;01mmatch\u001B[39;00m province:\n",
      "\u001B[1;31mNameError\u001B[0m: name 'DGUID_map' is not defined"
     ]
    }
   ],
   "execution_count": 58
  }
 ],
 "metadata": {
  "kernelspec": {
   "display_name": "Python 3",
   "language": "python",
   "name": "python3"
  },
  "language_info": {
   "codemirror_mode": {
    "name": "ipython",
    "version": 2
   },
   "file_extension": ".py",
   "mimetype": "text/x-python",
   "name": "python",
   "nbconvert_exporter": "python",
   "pygments_lexer": "ipython2",
   "version": "2.7.6"
  }
 },
 "nbformat": 4,
 "nbformat_minor": 5
}
