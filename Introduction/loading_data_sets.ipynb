{
 "cells": [
  {
   "metadata": {},
   "cell_type": "markdown",
   "source": [
    "# Loading Data Sets\n",
    "## The Selected data sets\n",
    "This report integrates to two different Data sets, that are partially correlated. The first on is a collection of weather data from different regions within canada - provided by the Canadian Government. The Data Set is freely available and can be found [here](https://climate.weather.gc.ca/historical_data/search_historic_data_e.html).\n",
    "The second data set is provided by the AAHC, the Canadian Department of animal and agri-food health. The data set contains information about different kinds of crop and crop insurance related incidents. The data is publicly available and can be found [here](https://open.canada.ca/)."
   ],
   "id": "ce88c88b339483cd"
  },
  {
   "metadata": {},
   "cell_type": "markdown",
   "source": [
    "## Loading the crop insurance data set\n",
    "The first step is to load the crop insurance data set. The data set is provided in a CSV format and can be loaded using the pandas library. It is important to note that the data set is quite large and might take some time to load.\n",
    "Furthermore, this data set determines which weather stations need to be loaded from the weather data set.\n",
    "\n",
    "### Data Set Url\n",
    "The data set can be downloaded from the api provided by the Canadian Government [here](https://data.novascotia.ca/api/views/i5jv-f88u/rows.csv?accessType=DOWNLOAD).\n",
    "\n",
    "\n",
    "### Certificate Problems\n",
    "The data set is hosted on a server that does not provide a valid certificate. This can be circumvented by using the `--no-check-certificate` flag when downloading the data set. This is not recommended in a production environment, but for the purpose of this project it is acceptable.\n",
    "Just in case security concern persist it is recommended to download the data set manually.\n",
    "\n",
    "### WGET and OS\n",
    "please be sure you have the import package installed and the WGET setup in the command line. If not please follow the instructions below.\n",
    "#### WGET with Anaconda\n",
    "- Open the Anaconda Prompt\n",
    "- Type `conda install -c anaconda wget`\n",
    "- environment variable setting for WGET: `set PATH=%PATH%;C:\\Program Files\\Git\\mingw64\\bin`\n",
    "- Test WGET with `wget --version`\n",
    "#### WGET with Python\n",
    "- Open the command prompt\n",
    "- Type `pip install wget`\n",
    "- environment variable setting for WGET: `set PATH=%PATH%;C:\\Program Files\\Git\\mingw64\\bin`\n",
    "- Test WGET with `wget --version`\n",
    "#### WGET with Linux\n",
    "- Open the terminal\n",
    "- Type `sudo apt-get install wget`\n",
    "- Test WGET with `wget --version`\n",
    "#### WGET with Mac\n",
    "- Open the terminal\n",
    "- Type `brew install wget`\n",
    "- Test WGET with `wget --version`\n",
    "- If you do not have brew installed, please follow the instructions [here](https://brew.sh/)\n",
    "#### WGET with chocolatey\n",
    "- Open the command prompt\n",
    "- Type `choco install wget`\n",
    "- Test WGET with `wget --version`"
   ],
   "id": "2053f35b751b1aa2"
  },
  {
   "cell_type": "code",
   "id": "initial_id",
   "metadata": {
    "collapsed": true,
    "ExecuteTime": {
     "end_time": "2024-08-21T08:02:14.109060Z",
     "start_time": "2024-08-21T08:02:13.050566Z"
    }
   },
   "source": [
    "# import os\n",
    "# os.mkdir(\"/data\")\n",
    "# os.chdir(\"/data\")\n",
    "#!wget -O crop_insurance.csv https://data.novascotia.ca/api/views/i5jv-f88u/rows.csv?accessType=DOWNLOAD --no-check-certificate\n",
    "# os.chdir(\"../\")"
   ],
   "outputs": [
    {
     "name": "stderr",
     "output_type": "stream",
     "text": [
      "--2024-08-21 10:02:13--  https://data.novascotia.ca/api/views/i5jv-f88u/rows.csv?accessType=DOWNLOAD\n",
      "Resolving data.novascotia.ca (data.novascotia.ca)... 52.206.140.199, 52.206.68.26, 52.206.140.205\n",
      "Connecting to data.novascotia.ca (data.novascotia.ca)|52.206.140.199|:443... connected.\n",
      "WARNING: cannot verify data.novascotia.ca's certificate, issued by 'CN=GlobalSign GCC R6 AlphaSSL CA 2023,O=GlobalSign nv-sa,C=BE':\n",
      "  Unable to locally verify the issuer's authority.\n",
      "HTTP request sent, awaiting response... 200 OK\n",
      "Length: unspecified [text/csv]\n",
      "Saving to: 'crop_insurance.csv'\n",
      "\n",
      "     0K ..                                                     1,25G=0s\n",
      "\n",
      "2024-08-21 10:02:14 (1,25 GB/s) - 'crop_insurance.csv' saved [2808]\n",
      "\n"
     ]
    }
   ],
   "execution_count": 2
  },
  {
   "metadata": {},
   "cell_type": "markdown",
   "source": [
    "### Loading the data set\n",
    "Now we have the data set installed and moved to a folder called data. We can now load the data set into a pandas data frame. and start inspecting the data set."
   ],
   "id": "3a23b276b229a201"
  },
  {
   "metadata": {
    "ExecuteTime": {
     "end_time": "2024-08-21T08:16:34.673729Z",
     "start_time": "2024-08-21T08:16:34.655015Z"
    }
   },
   "cell_type": "code",
   "source": [
    "import pandas as pd\n",
    "data_set_insurance = pd.read_csv(\"../data/crop_insurance.csv\")"
   ],
   "id": "bfdecbf2f21cb9bd",
   "outputs": [],
   "execution_count": 7
  },
  {
   "metadata": {},
   "cell_type": "markdown",
   "source": [
    "### Inspecting the data set\n",
    "The data set contains 1,000,000 rows and 6 columns. The columns are as follows:\n",
    "- `CROP YEARS` : The year the crop was harvested\n",
    "- `NUMBER of CONTRACTS` : The number of new contracts\n",
    "- `TOTAL COVERAGE` : The total coverage for all contracts\n",
    "- `TOTAL PREMIUM` : The total premium for all contracts\n",
    "- `CLAIMS PAID` : The total amount of claims paid to the farmers\n",
    "- `LOSS RATIO` : The ratio of claims paid to the total premium"
   ],
   "id": "3f104398765fd535"
  },
  {
   "metadata": {
    "ExecuteTime": {
     "end_time": "2024-08-21T08:33:30.471438Z",
     "start_time": "2024-08-21T08:33:30.455766Z"
    }
   },
   "cell_type": "code",
   "source": [
    "print(data_set_insurance.columns)\n",
    "print(data_set_insurance.shape)\n",
    "print(min(data_set_insurance[data_set_insurance.columns[0]].sort_values()), max(data_set_insurance[data_set_insurance.columns[0]].sort_values()))"
   ],
   "id": "56a93b35421977bb",
   "outputs": [
    {
     "name": "stdout",
     "output_type": "stream",
     "text": [
      "Index(['CROP YEARS', 'NUMBER of CONTRACTS', 'TOTAL COVERAGE', 'TOTAL PREMIUM',\n",
      "       'CLAIMS PAID', 'LOSS RATIO'],\n",
      "      dtype='object')\n",
      "(54, 6)\n",
      "1969-1970 2022-2023\n"
     ]
    }
   ],
   "execution_count": 26
  },
  {
   "metadata": {
    "ExecuteTime": {
     "end_time": "2024-08-21T08:26:50.274837Z",
     "start_time": "2024-08-21T08:26:50.254403Z"
    }
   },
   "cell_type": "code",
   "source": "display(data_set_insurance.head())",
   "id": "87c7b143ed8a7cb0",
   "outputs": [
    {
     "data": {
      "text/plain": [
       "  CROP YEARS  NUMBER of CONTRACTS  TOTAL COVERAGE  TOTAL PREMIUM  CLAIMS PAID  \\\n",
       "0  2022-2023                  365     90009757.90     3751855.76   2811152.33   \n",
       "1  2021-2022                  357     79439275.04     3352165.32    637708.13   \n",
       "2  2020-2021                  374     58731739.31     2964036.00   1716638.94   \n",
       "3  2019-2020                  352     49942367.70     2132551.81   6309588.37   \n",
       "4  2018-2019                  340     48276173.21     1713732.81   6519214.98   \n",
       "\n",
       "   LOSS RATIO  \n",
       "0        0.75  \n",
       "1        0.19  \n",
       "2        0.58  \n",
       "3        2.96  \n",
       "4        3.80  "
      ],
      "text/html": [
       "<div>\n",
       "<style scoped>\n",
       "    .dataframe tbody tr th:only-of-type {\n",
       "        vertical-align: middle;\n",
       "    }\n",
       "\n",
       "    .dataframe tbody tr th {\n",
       "        vertical-align: top;\n",
       "    }\n",
       "\n",
       "    .dataframe thead th {\n",
       "        text-align: right;\n",
       "    }\n",
       "</style>\n",
       "<table border=\"1\" class=\"dataframe\">\n",
       "  <thead>\n",
       "    <tr style=\"text-align: right;\">\n",
       "      <th></th>\n",
       "      <th>CROP YEARS</th>\n",
       "      <th>NUMBER of CONTRACTS</th>\n",
       "      <th>TOTAL COVERAGE</th>\n",
       "      <th>TOTAL PREMIUM</th>\n",
       "      <th>CLAIMS PAID</th>\n",
       "      <th>LOSS RATIO</th>\n",
       "    </tr>\n",
       "  </thead>\n",
       "  <tbody>\n",
       "    <tr>\n",
       "      <th>0</th>\n",
       "      <td>2022-2023</td>\n",
       "      <td>365</td>\n",
       "      <td>90009757.90</td>\n",
       "      <td>3751855.76</td>\n",
       "      <td>2811152.33</td>\n",
       "      <td>0.75</td>\n",
       "    </tr>\n",
       "    <tr>\n",
       "      <th>1</th>\n",
       "      <td>2021-2022</td>\n",
       "      <td>357</td>\n",
       "      <td>79439275.04</td>\n",
       "      <td>3352165.32</td>\n",
       "      <td>637708.13</td>\n",
       "      <td>0.19</td>\n",
       "    </tr>\n",
       "    <tr>\n",
       "      <th>2</th>\n",
       "      <td>2020-2021</td>\n",
       "      <td>374</td>\n",
       "      <td>58731739.31</td>\n",
       "      <td>2964036.00</td>\n",
       "      <td>1716638.94</td>\n",
       "      <td>0.58</td>\n",
       "    </tr>\n",
       "    <tr>\n",
       "      <th>3</th>\n",
       "      <td>2019-2020</td>\n",
       "      <td>352</td>\n",
       "      <td>49942367.70</td>\n",
       "      <td>2132551.81</td>\n",
       "      <td>6309588.37</td>\n",
       "      <td>2.96</td>\n",
       "    </tr>\n",
       "    <tr>\n",
       "      <th>4</th>\n",
       "      <td>2018-2019</td>\n",
       "      <td>340</td>\n",
       "      <td>48276173.21</td>\n",
       "      <td>1713732.81</td>\n",
       "      <td>6519214.98</td>\n",
       "      <td>3.80</td>\n",
       "    </tr>\n",
       "  </tbody>\n",
       "</table>\n",
       "</div>"
      ]
     },
     "metadata": {},
     "output_type": "display_data"
    }
   ],
   "execution_count": 23
  },
  {
   "metadata": {},
   "cell_type": "markdown",
   "source": "To add further insights a quick research led to the additional inclusion of the following data set [Estimated areas, yield, production, average farm price and total farm value of principal field crops, in metric and imperial units by statcan](\"https://www150.statcan.gc.ca/n1/tbl/csv/32100359-eng.zip\")",
   "id": "97a80dcc68327a75"
  },
  {
   "metadata": {},
   "cell_type": "code",
   "outputs": [],
   "execution_count": null,
   "source": [
    "# os.chdir(\"/data\")\n",
    "# !wget -O crop_production.zip https://www150.statcan.gc.ca/n1/tbl/csv/32100359-eng.zip --no-check-certificate  \n",
    "# os.chdir(\"../\")"
   ],
   "id": "561695d3c98558e1"
  },
  {
   "metadata": {
    "ExecuteTime": {
     "end_time": "2024-08-21T08:43:09.095637Z",
     "start_time": "2024-08-21T08:43:09.079564Z"
    }
   },
   "cell_type": "code",
   "source": "data_set_crop_meta = pd.read_csv(\"../data/crop_data/32100359_MetaData.csv\",skiprows=8,header=0)",
   "id": "42291a0fe4f4f9d",
   "outputs": [],
   "execution_count": 34
  },
  {
   "metadata": {
    "ExecuteTime": {
     "end_time": "2024-08-21T08:43:10.390697Z",
     "start_time": "2024-08-21T08:43:10.381104Z"
    }
   },
   "cell_type": "code",
   "source": [
    "print(data_set_crop_meta.columns)\n",
    "print(data_set_crop_meta.shape)"
   ],
   "id": "acf1066c082b23ba",
   "outputs": [
    {
     "name": "stdout",
     "output_type": "stream",
     "text": [
      "Index(['Dimension ID', 'Member Name', 'Classification Code', 'Member ID',\n",
      "       'Parent Member ID', 'Terminated', 'Member Notes', 'Member Definitions'],\n",
      "      dtype='object')\n",
      "(152, 8)\n"
     ]
    }
   ],
   "execution_count": 35
  },
  {
   "metadata": {
    "ExecuteTime": {
     "end_time": "2024-08-21T08:43:21.601305Z",
     "start_time": "2024-08-21T08:43:21.579138Z"
    }
   },
   "cell_type": "code",
   "source": "display(data_set_crop_meta.head())",
   "id": "78ff6d04d1c1c1e3",
   "outputs": [
    {
     "data": {
      "text/plain": [
       "  Dimension ID         Member Name Classification Code Member ID  \\\n",
       "0            1  Maritime provinces                 NaN         2   \n",
       "1            1              Quebec                [24]         6   \n",
       "2            1             Ontario                [35]         7   \n",
       "3            1   Prairie provinces                 [4]         8   \n",
       "4            1    British Columbia                [59]        12   \n",
       "\n",
       "  Parent Member ID Terminated Member Notes  Member Definitions  \n",
       "0                1          t           44                 NaN  \n",
       "1                1        NaN          NaN                 NaN  \n",
       "2                1        NaN          NaN                 NaN  \n",
       "3                1          t        32;44                 NaN  \n",
       "4                1        NaN          NaN                 NaN  "
      ],
      "text/html": [
       "<div>\n",
       "<style scoped>\n",
       "    .dataframe tbody tr th:only-of-type {\n",
       "        vertical-align: middle;\n",
       "    }\n",
       "\n",
       "    .dataframe tbody tr th {\n",
       "        vertical-align: top;\n",
       "    }\n",
       "\n",
       "    .dataframe thead th {\n",
       "        text-align: right;\n",
       "    }\n",
       "</style>\n",
       "<table border=\"1\" class=\"dataframe\">\n",
       "  <thead>\n",
       "    <tr style=\"text-align: right;\">\n",
       "      <th></th>\n",
       "      <th>Dimension ID</th>\n",
       "      <th>Member Name</th>\n",
       "      <th>Classification Code</th>\n",
       "      <th>Member ID</th>\n",
       "      <th>Parent Member ID</th>\n",
       "      <th>Terminated</th>\n",
       "      <th>Member Notes</th>\n",
       "      <th>Member Definitions</th>\n",
       "    </tr>\n",
       "  </thead>\n",
       "  <tbody>\n",
       "    <tr>\n",
       "      <th>0</th>\n",
       "      <td>1</td>\n",
       "      <td>Maritime provinces</td>\n",
       "      <td>NaN</td>\n",
       "      <td>2</td>\n",
       "      <td>1</td>\n",
       "      <td>t</td>\n",
       "      <td>44</td>\n",
       "      <td>NaN</td>\n",
       "    </tr>\n",
       "    <tr>\n",
       "      <th>1</th>\n",
       "      <td>1</td>\n",
       "      <td>Quebec</td>\n",
       "      <td>[24]</td>\n",
       "      <td>6</td>\n",
       "      <td>1</td>\n",
       "      <td>NaN</td>\n",
       "      <td>NaN</td>\n",
       "      <td>NaN</td>\n",
       "    </tr>\n",
       "    <tr>\n",
       "      <th>2</th>\n",
       "      <td>1</td>\n",
       "      <td>Ontario</td>\n",
       "      <td>[35]</td>\n",
       "      <td>7</td>\n",
       "      <td>1</td>\n",
       "      <td>NaN</td>\n",
       "      <td>NaN</td>\n",
       "      <td>NaN</td>\n",
       "    </tr>\n",
       "    <tr>\n",
       "      <th>3</th>\n",
       "      <td>1</td>\n",
       "      <td>Prairie provinces</td>\n",
       "      <td>[4]</td>\n",
       "      <td>8</td>\n",
       "      <td>1</td>\n",
       "      <td>t</td>\n",
       "      <td>32;44</td>\n",
       "      <td>NaN</td>\n",
       "    </tr>\n",
       "    <tr>\n",
       "      <th>4</th>\n",
       "      <td>1</td>\n",
       "      <td>British Columbia</td>\n",
       "      <td>[59]</td>\n",
       "      <td>12</td>\n",
       "      <td>1</td>\n",
       "      <td>NaN</td>\n",
       "      <td>NaN</td>\n",
       "      <td>NaN</td>\n",
       "    </tr>\n",
       "  </tbody>\n",
       "</table>\n",
       "</div>"
      ]
     },
     "metadata": {},
     "output_type": "display_data"
    }
   ],
   "execution_count": 36
  },
  {
   "metadata": {
    "ExecuteTime": {
     "end_time": "2024-08-21T08:50:19.909224Z",
     "start_time": "2024-08-21T08:50:19.333892Z"
    }
   },
   "cell_type": "code",
   "source": "data_set_crop = pd.read_csv(\"../data/crop_data/32100359.csv\")",
   "id": "2b13a8ea5fc5aeea",
   "outputs": [
    {
     "name": "stderr",
     "output_type": "stream",
     "text": [
      "C:\\Users\\data-\\AppData\\Local\\Temp\\ipykernel_33968\\2019647470.py:1: DtypeWarning: Columns (13) have mixed types. Specify dtype option on import or set low_memory=False.\n",
      "  data_set_crop = pd.read_csv(\"../data/crop_data/32100359.csv\")\n"
     ]
    }
   ],
   "execution_count": 37
  },
  {
   "metadata": {},
   "cell_type": "markdown",
   "source": [
    "### Inspect the crop data set\n",
    "Now we have a rather complex dataset on hand. We will take a few steps to further inspect the data set. Since we might have gotten a DtypeWarning we will check the data types of the columns."
   ],
   "id": "aece36b2bd8f2734"
  },
  {
   "metadata": {
    "ExecuteTime": {
     "end_time": "2024-08-21T09:11:00.925794Z",
     "start_time": "2024-08-21T09:11:00.912679Z"
    }
   },
   "cell_type": "code",
   "source": "data_set_crop.dtypes",
   "id": "cb7d6b40c2a9fb56",
   "outputs": [
    {
     "data": {
      "text/plain": [
       "REF_DATE                 int64\n",
       "GEO                     object\n",
       "DGUID                   object\n",
       "Harvest disposition     object\n",
       "Type of crop            object\n",
       "UOM                     object\n",
       "UOM_ID                   int64\n",
       "SCALAR_FACTOR           object\n",
       "SCALAR_ID                int64\n",
       "VECTOR                  object\n",
       "COORDINATE              object\n",
       "VALUE                  float64\n",
       "STATUS                  object\n",
       "SYMBOL                  object\n",
       "TERMINATED              object\n",
       "DECIMALS                 int64\n",
       "dtype: object"
      ]
     },
     "execution_count": 78,
     "metadata": {},
     "output_type": "execute_result"
    }
   ],
   "execution_count": 78
  },
  {
   "metadata": {
    "ExecuteTime": {
     "end_time": "2024-08-21T09:18:54.615126Z",
     "start_time": "2024-08-21T09:18:54.583470Z"
    }
   },
   "cell_type": "code",
   "source": "display(data_set_crop.head())",
   "id": "455a2336f1c60996",
   "outputs": [
    {
     "data": {
      "text/plain": [
       "   REF_DATE     GEO           DGUID  Harvest disposition  \\\n",
       "0      1908  Canada  2021A000011124  Seeded area (acres)   \n",
       "1      1908  Canada  2021A000011124  Seeded area (acres)   \n",
       "2      1908  Canada  2021A000011124  Seeded area (acres)   \n",
       "3      1908  Canada  2021A000011124  Seeded area (acres)   \n",
       "4      1908  Canada  2021A000011124  Seeded area (acres)   \n",
       "\n",
       "                          Type of crop    UOM  UOM_ID SCALAR_FACTOR  \\\n",
       "0                               Barley  Acres      28         units   \n",
       "1  Beans, all dry (white and coloured)  Acres      28         units   \n",
       "2                     Beans, dry white  Acres      28         units   \n",
       "3                  Beans, dry coloured  Acres      28         units   \n",
       "4                          Borage seed  Acres      28         units   \n",
       "\n",
       "   SCALAR_ID     VECTOR COORDINATE      VALUE STATUS SYMBOL TERMINATED  \\\n",
       "0          0     v46457      1.1.6  1745700.0    nan    nan        nan   \n",
       "1          0  v54532262     1.1.39    59900.0    nan    nan        nan   \n",
       "2          0  v54532263     1.1.40        NaN     ..    nan        nan   \n",
       "3          0  v54532264     1.1.41        NaN     ..    nan        nan   \n",
       "4          0  v54529215     1.1.37        NaN     ..    nan          t   \n",
       "\n",
       "   DECIMALS  \n",
       "0         0  \n",
       "1         0  \n",
       "2         0  \n",
       "3         0  \n",
       "4         0  "
      ],
      "text/html": [
       "<div>\n",
       "<style scoped>\n",
       "    .dataframe tbody tr th:only-of-type {\n",
       "        vertical-align: middle;\n",
       "    }\n",
       "\n",
       "    .dataframe tbody tr th {\n",
       "        vertical-align: top;\n",
       "    }\n",
       "\n",
       "    .dataframe thead th {\n",
       "        text-align: right;\n",
       "    }\n",
       "</style>\n",
       "<table border=\"1\" class=\"dataframe\">\n",
       "  <thead>\n",
       "    <tr style=\"text-align: right;\">\n",
       "      <th></th>\n",
       "      <th>REF_DATE</th>\n",
       "      <th>GEO</th>\n",
       "      <th>DGUID</th>\n",
       "      <th>Harvest disposition</th>\n",
       "      <th>Type of crop</th>\n",
       "      <th>UOM</th>\n",
       "      <th>UOM_ID</th>\n",
       "      <th>SCALAR_FACTOR</th>\n",
       "      <th>SCALAR_ID</th>\n",
       "      <th>VECTOR</th>\n",
       "      <th>COORDINATE</th>\n",
       "      <th>VALUE</th>\n",
       "      <th>STATUS</th>\n",
       "      <th>SYMBOL</th>\n",
       "      <th>TERMINATED</th>\n",
       "      <th>DECIMALS</th>\n",
       "    </tr>\n",
       "  </thead>\n",
       "  <tbody>\n",
       "    <tr>\n",
       "      <th>0</th>\n",
       "      <td>1908</td>\n",
       "      <td>Canada</td>\n",
       "      <td>2021A000011124</td>\n",
       "      <td>Seeded area (acres)</td>\n",
       "      <td>Barley</td>\n",
       "      <td>Acres</td>\n",
       "      <td>28</td>\n",
       "      <td>units</td>\n",
       "      <td>0</td>\n",
       "      <td>v46457</td>\n",
       "      <td>1.1.6</td>\n",
       "      <td>1745700.0</td>\n",
       "      <td>nan</td>\n",
       "      <td>nan</td>\n",
       "      <td>nan</td>\n",
       "      <td>0</td>\n",
       "    </tr>\n",
       "    <tr>\n",
       "      <th>1</th>\n",
       "      <td>1908</td>\n",
       "      <td>Canada</td>\n",
       "      <td>2021A000011124</td>\n",
       "      <td>Seeded area (acres)</td>\n",
       "      <td>Beans, all dry (white and coloured)</td>\n",
       "      <td>Acres</td>\n",
       "      <td>28</td>\n",
       "      <td>units</td>\n",
       "      <td>0</td>\n",
       "      <td>v54532262</td>\n",
       "      <td>1.1.39</td>\n",
       "      <td>59900.0</td>\n",
       "      <td>nan</td>\n",
       "      <td>nan</td>\n",
       "      <td>nan</td>\n",
       "      <td>0</td>\n",
       "    </tr>\n",
       "    <tr>\n",
       "      <th>2</th>\n",
       "      <td>1908</td>\n",
       "      <td>Canada</td>\n",
       "      <td>2021A000011124</td>\n",
       "      <td>Seeded area (acres)</td>\n",
       "      <td>Beans, dry white</td>\n",
       "      <td>Acres</td>\n",
       "      <td>28</td>\n",
       "      <td>units</td>\n",
       "      <td>0</td>\n",
       "      <td>v54532263</td>\n",
       "      <td>1.1.40</td>\n",
       "      <td>NaN</td>\n",
       "      <td>..</td>\n",
       "      <td>nan</td>\n",
       "      <td>nan</td>\n",
       "      <td>0</td>\n",
       "    </tr>\n",
       "    <tr>\n",
       "      <th>3</th>\n",
       "      <td>1908</td>\n",
       "      <td>Canada</td>\n",
       "      <td>2021A000011124</td>\n",
       "      <td>Seeded area (acres)</td>\n",
       "      <td>Beans, dry coloured</td>\n",
       "      <td>Acres</td>\n",
       "      <td>28</td>\n",
       "      <td>units</td>\n",
       "      <td>0</td>\n",
       "      <td>v54532264</td>\n",
       "      <td>1.1.41</td>\n",
       "      <td>NaN</td>\n",
       "      <td>..</td>\n",
       "      <td>nan</td>\n",
       "      <td>nan</td>\n",
       "      <td>0</td>\n",
       "    </tr>\n",
       "    <tr>\n",
       "      <th>4</th>\n",
       "      <td>1908</td>\n",
       "      <td>Canada</td>\n",
       "      <td>2021A000011124</td>\n",
       "      <td>Seeded area (acres)</td>\n",
       "      <td>Borage seed</td>\n",
       "      <td>Acres</td>\n",
       "      <td>28</td>\n",
       "      <td>units</td>\n",
       "      <td>0</td>\n",
       "      <td>v54529215</td>\n",
       "      <td>1.1.37</td>\n",
       "      <td>NaN</td>\n",
       "      <td>..</td>\n",
       "      <td>nan</td>\n",
       "      <td>t</td>\n",
       "      <td>0</td>\n",
       "    </tr>\n",
       "  </tbody>\n",
       "</table>\n",
       "</div>"
      ]
     },
     "metadata": {},
     "output_type": "display_data"
    }
   ],
   "execution_count": 79
  },
  {
   "metadata": {},
   "cell_type": "markdown",
   "source": "Since we now know that the Dtypes that were tagged as mixed types are actually strings, we can convert them to the correct type.",
   "id": "8e0678982a304621"
  },
  {
   "metadata": {
    "ExecuteTime": {
     "end_time": "2024-08-21T09:19:45.133932Z",
     "start_time": "2024-08-21T09:19:45.007442Z"
    }
   },
   "cell_type": "code",
   "source": [
    "print(data_set_crop.columns)\n",
    "print(data_set_crop.shape)\n",
    "print(min(data_set_crop[data_set_crop.columns[0]].sort_values()), max(data_set_crop[data_set_crop.columns[0]].sort_values()))"
   ],
   "id": "40dfb0f8dd083ef6",
   "outputs": [
    {
     "name": "stdout",
     "output_type": "stream",
     "text": [
      "Index(['REF_DATE', 'GEO', 'DGUID', 'Harvest disposition', 'Type of crop',\n",
      "       'UOM', 'UOM_ID', 'SCALAR_FACTOR', 'SCALAR_ID', 'VECTOR', 'COORDINATE',\n",
      "       'VALUE', 'STATUS', 'SYMBOL', 'TERMINATED', 'DECIMALS'],\n",
      "      dtype='object')\n",
      "(383497, 16)\n",
      "1908 2024\n"
     ]
    }
   ],
   "execution_count": 81
  },
  {
   "metadata": {},
   "cell_type": "markdown",
   "source": [
    "### Reducing the data frame to the relevant years\n",
    "since the second data set contains a lot more date, we will reduce the years of focus to the time frame set by the first data set."
   ],
   "id": "d311b681067a39b3"
  },
  {
   "metadata": {
    "ExecuteTime": {
     "end_time": "2024-08-21T09:36:19.292982Z",
     "start_time": "2024-08-21T09:36:19.219407Z"
    }
   },
   "cell_type": "code",
   "source": [
    "print(\"Insurance Data Set - Time Frame: from\", min(data_set_insurance[data_set_insurance.columns[0]].sort_values()),\"to\", max(data_set_insurance[data_set_insurance.columns[0]].sort_values()))\n",
    "print(\"Crop Data Set - Time Frame: from\", min(data_set_crop[data_set_crop.columns[0]].sort_values()),\"to\", max(data_set_crop[data_set_crop.columns[0]].sort_values()))"
   ],
   "id": "ee82f3040ea8cc1c",
   "outputs": [
    {
     "name": "stdout",
     "output_type": "stream",
     "text": [
      "Insurance Data Set - Time Frame: from 1969-1970 to 2022-2023\n",
      "Crop Data Set - Time Frame: from 1908 to 2024\n"
     ]
    }
   ],
   "execution_count": 114
  },
  {
   "metadata": {
    "ExecuteTime": {
     "end_time": "2024-08-21T09:24:28.959436Z",
     "start_time": "2024-08-21T09:24:28.944889Z"
    }
   },
   "cell_type": "code",
   "source": [
    "start_date = min(data_set_insurance[data_set_insurance.columns[0]].sort_values()).split(\"-\")[0]\n",
    "print(\"Start Date:\", start_date)\n",
    "end_date = max(data_set_insurance[data_set_insurance.columns[0]].sort_values()).split(\"-\")[0]\n",
    "print(\"End Date:\", end_date)"
   ],
   "id": "5b6d0fd00982137b",
   "outputs": [
    {
     "name": "stdout",
     "output_type": "stream",
     "text": [
      "Start Date: 1969\n",
      "End Date: 2022\n"
     ]
    }
   ],
   "execution_count": 87
  },
  {
   "metadata": {
    "ExecuteTime": {
     "end_time": "2024-08-21T09:39:41.789337Z",
     "start_time": "2024-08-21T09:39:41.512181Z"
    }
   },
   "cell_type": "code",
   "source": [
    "data_set_crop_mod = data_set_crop.where(data_set_crop[data_set_crop.columns[0]]>=int(start_date)).dropna()\n",
    "data_set_crop_mod = data_set_crop_mod.where(data_set_crop_mod[data_set_crop.columns[0]]<=int(end_date)).dropna()\n",
    "\n",
    "print(\"Crop Data Set - Time Frame: from\", min(data_set_crop_mod[data_set_crop_mod.columns[0]].sort_values()),\"to\", max(data_set_crop_mod[data_set_crop_mod.columns[0]].sort_values()))\n",
    "print(data_set_crop_mod[data_set_crop_mod.columns[0]].sort_values().unique())\n",
    "\n",
    "print(\"Insurance Data Set - Time Frame: from\", min(data_set_insurance[data_set_insurance.columns[0]].sort_values()),\"to\", max(data_set_insurance[data_set_insurance.columns[0]].sort_values()))\n",
    "print(sorted([int(date.split(\"-\")[0]) for date in data_set_insurance[data_set_insurance.columns[0]]]))"
   ],
   "id": "37fe3c5305275740",
   "outputs": [
    {
     "name": "stdout",
     "output_type": "stream",
     "text": [
      "Crop Data Set - Time Frame: from 1969.0 to 2022.0\n",
      "[1969. 1970. 1971. 1972. 1973. 1974. 1975. 1976. 1977. 1978. 1979. 1980.\n",
      " 1981. 1982. 1983. 1984. 1985. 1986. 1987. 1988. 1989. 1990. 1991. 1992.\n",
      " 1993. 1994. 1995. 1996. 1997. 1998. 1999. 2000. 2001. 2002. 2003. 2004.\n",
      " 2005. 2006. 2007. 2008. 2009. 2010. 2011. 2012. 2013. 2014. 2015. 2016.\n",
      " 2017. 2018. 2019. 2020. 2021. 2022.]\n",
      "Insurance Data Set - Time Frame: from 1969-1970 to 2022-2023\n",
      "[1969, 1970, 1971, 1972, 1973, 1974, 1975, 1976, 1977, 1978, 1979, 1980, 1981, 1982, 1983, 1984, 1985, 1986, 1987, 1988, 1989, 1990, 1991, 1992, 1993, 1994, 1995, 1996, 1997, 1998, 1999, 2000, 2001, 2002, 2003, 2004, 2005, 2006, 2007, 2008, 2009, 2010, 2011, 2012, 2013, 2014, 2015, 2016, 2017, 2018, 2019, 2020, 2021, 2022]\n"
     ]
    }
   ],
   "execution_count": 120
  },
  {
   "metadata": {},
   "cell_type": "markdown",
   "source": "",
   "id": "e3732fb7fa20de62"
  }
 ],
 "metadata": {
  "kernelspec": {
   "display_name": "Python 3",
   "language": "python",
   "name": "python3"
  },
  "language_info": {
   "codemirror_mode": {
    "name": "ipython",
    "version": 2
   },
   "file_extension": ".py",
   "mimetype": "text/x-python",
   "name": "python",
   "nbconvert_exporter": "python",
   "pygments_lexer": "ipython2",
   "version": "2.7.6"
  }
 },
 "nbformat": 4,
 "nbformat_minor": 5
}
