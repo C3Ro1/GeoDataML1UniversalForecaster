{
 "cells": [
  {
   "metadata": {},
   "cell_type": "markdown",
   "source": [
    "# Moirai Initial Test\n",
    "Here we will test the initial setup of the Moirai package.\n",
    "\n",
    "The first step is to test the installation of the package and the usage of the model\n",
    "and the data."
   ],
   "id": "5fdb084c687a1fd2"
  },
  {
   "metadata": {},
   "cell_type": "markdown",
   "source": [
    "## Managing th imports and dependencies\n",
    "All the necessary imports are done in the following cell. This step will only be performed once and afterward be frozen into the requirements.txt file. For further runs this cell will be commented out. "
   ],
   "id": "56ecd026573f2bdb"
  },
  {
   "cell_type": "code",
   "id": "initial_id",
   "metadata": {
    "collapsed": true,
    "ExecuteTime": {
     "end_time": "2024-08-20T21:08:47.434Z",
     "start_time": "2024-08-20T21:08:46.256627Z"
    }
   },
   "source": [
    "# !pip install pandas\n",
    "# !pip install numpy\n",
    "# !pip install matplotlib\n",
    "# !pip install seaborn\n",
    "# !pip install torch\n",
    "# !pip install gluonts\n",
    "# !pip install huggingface_hub\n",
    "# !pip freeze > requirements.txt"
   ],
   "outputs": [],
   "execution_count": 2
  },
  {
   "metadata": {},
   "cell_type": "markdown",
   "source": [
    "## Importing the necessary modules\n",
    "Now where we are sure, that all the dependencies exist locally, we can import the necessary modules."
   ],
   "id": "415c139f77891af0"
  },
  {
   "metadata": {
    "ExecuteTime": {
     "end_time": "2024-08-20T21:11:03.578599Z",
     "start_time": "2024-08-20T21:10:52.539901Z"
    }
   },
   "cell_type": "code",
   "source": [
    "import torch\n",
    "import matplotlib.pyplot as plt\n",
    "import pandas as pd\n",
    "from gluonts.dataset.pandas import PandasDataset\n",
    "from gluonts.dataset.split import split\n",
    "from huggingface_hub import hf_hub_download\n",
    "\n",
    "\n",
    "from uni2ts.eval_util.plot import plot_single\n",
    "from uni2ts.model.moirai import MoiraiForecast, MoiraiModule"
   ],
   "id": "1c127a6ac1cf3937",
   "outputs": [],
   "execution_count": 3
  },
  {
   "metadata": {},
   "cell_type": "markdown",
   "source": [
    "## Following the tutorial\n",
    "The authors of the architecture uploaded a test tutorial in their GitHub repository, we will follow this tutorial closely to get a feel for the usage of the package, the model and the data loader. \n",
    "\n",
    "### Setting the static variables\n",
    "In the tutorials certain variables are set to manage costum settings of the model.\n",
    "\n",
    "One important setting is the `Size` of the model. The Authors provide three different sizes of the model: `small`, `base` and `large`. The size of the model is determined by the number of parameters.\n",
    "\n",
    "- small:   XM parameters\n",
    "- base:   XXM parameters\n",
    "- large: XXXM parameters\n",
    "\n",
    "We will use the `small` model for the initial test. The reasoning behind the choice is simply the compute time. The small model is the fastest to train and evaluate. Furthermore, this test is run on a local machine, without any GPU/TPU/NPU acceleration; leading to a CPU-induced performance issue.\n",
    "\n",
    "Other static are `PREDICTION_LENGTH`, which can be any positive integer and determines the amount of predicted values of the time series. The `CONTEXT_LENGTH` is the amount of values the model uses to predict the next value. \n",
    "\n",
    "The `PATCH_SIZE` is the size of the patches the model cuts the prediction data into. The Patch Size is bound to a certain set of values.\n",
    "- \"auto\"\n",
    "- 8\n",
    "- 16\n",
    "- 32\n",
    "- 64\n",
    "- 128\n",
    "\n",
    "The `BATCH_SIZE` is the size of the batch the model uses to train the model. The `TEST` variable is the set size of the test data set, the model uses to test the model."
   ],
   "id": "c0af9c3959b5ef84"
  },
  {
   "metadata": {
    "ExecuteTime": {
     "end_time": "2024-08-20T22:50:00.415542Z",
     "start_time": "2024-08-20T22:50:00.405048Z"
    }
   },
   "cell_type": "code",
   "source": [
    "SIZE = \"small\"\n",
    "PREDICTION_LENGTH = 100\n",
    "CONTEXT_LENGTH = 100  \n",
    "PATCH_SIZE = 40\n",
    "BATCH_SIZE = 32  \n",
    "TEST = 120 "
   ],
   "id": "6bfcf867865aae6d",
   "outputs": [],
   "execution_count": 88
  },
  {
   "metadata": {},
   "cell_type": "markdown",
   "source": "",
   "id": "a6ba4842eab13d28"
  },
  {
   "metadata": {},
   "cell_type": "markdown",
   "source": [
    "### Loading the data\n",
    "The tutorial suggest to use a particular data set: `https://gist.githubusercontent.com/rsnirwan/c8c8654a98350fadd229b00167174ec4/raw/a42101c7786d4bc7695228a0f2c8cea41340e18f/ts_wide.csv` which contains a time series data set. We will first download the data set and inspect it using the gluonts data loader. The data loader suggested by the authors in their tutorial."
   ],
   "id": "937bce964140066f"
  },
  {
   "metadata": {
    "ExecuteTime": {
     "end_time": "2024-08-20T21:39:11.548206Z",
     "start_time": "2024-08-20T21:39:11.480580Z"
    }
   },
   "cell_type": "code",
   "source": "url = \"https://gist.githubusercontent.com/rsnirwan/c8c8654a98350fadd229b00167174ec4/raw/a42101c7786d4bc7695228a0f2c8cea41340e18f/ts_wide.csv\"",
   "id": "2bb660b2fdf1d517",
   "outputs": [],
   "execution_count": 4
  },
  {
   "metadata": {},
   "cell_type": "markdown",
   "source": "We use the pandas data loader to load the data into a python readable format. Before converting it into a gluonts data set.",
   "id": "1738a18eb636cf43"
  },
  {
   "metadata": {
    "ExecuteTime": {
     "end_time": "2024-08-20T21:39:23.995287Z",
     "start_time": "2024-08-20T21:39:23.397400Z"
    }
   },
   "cell_type": "code",
   "source": "df = pd.read_csv(url, index_col=0, parse_dates=True)",
   "id": "450b68d3e0f92a3",
   "outputs": [],
   "execution_count": 6
  },
  {
   "metadata": {},
   "cell_type": "markdown",
   "source": [
    "### Background Pandas Data Frame\n",
    "The data set contains 10 time series data sets, each with 240 time steps, with a 1 hour interval. \n",
    "The data set is a wide data set, which means that the time series are stored in columns and the time steps are stored in rows."
   ],
   "id": "10db4d8ec145adaf"
  },
  {
   "metadata": {
    "ExecuteTime": {
     "end_time": "2024-08-20T21:40:30.796721Z",
     "start_time": "2024-08-20T21:40:30.769097Z"
    }
   },
   "cell_type": "code",
   "source": "display(df.head())",
   "id": "3df2ad8423fef746",
   "outputs": [
    {
     "data": {
      "text/plain": [
       "                          A       B       C       D       E       F       G  \\\n",
       "2021-01-01 00:00:00 -1.3378  0.1268 -0.3645 -1.0864 -2.3803 -0.2447  2.2647   \n",
       "2021-01-01 01:00:00 -1.6111  0.0926 -0.1364 -1.1613 -2.1421 -0.3477  2.4262   \n",
       "2021-01-01 02:00:00 -1.9259 -0.1420  0.1063 -1.0405 -2.1426 -0.3271  2.4434   \n",
       "2021-01-01 03:00:00 -1.9184 -0.4930  0.6269 -0.8531 -1.7060 -0.3088  2.4307   \n",
       "2021-01-01 04:00:00 -1.9168 -0.5057  0.9419 -0.7666 -1.4287 -0.4284  2.3258   \n",
       "\n",
       "                          H       I       J  \n",
       "2021-01-01 00:00:00 -0.7917  0.7071  1.3763  \n",
       "2021-01-01 01:00:00 -0.9609  0.6413  1.2750  \n",
       "2021-01-01 02:00:00 -0.9034  0.4323  0.6767  \n",
       "2021-01-01 03:00:00 -0.9602  0.3193  0.5150  \n",
       "2021-01-01 04:00:00 -1.2504  0.3660  0.1708  "
      ],
      "text/html": [
       "<div>\n",
       "<style scoped>\n",
       "    .dataframe tbody tr th:only-of-type {\n",
       "        vertical-align: middle;\n",
       "    }\n",
       "\n",
       "    .dataframe tbody tr th {\n",
       "        vertical-align: top;\n",
       "    }\n",
       "\n",
       "    .dataframe thead th {\n",
       "        text-align: right;\n",
       "    }\n",
       "</style>\n",
       "<table border=\"1\" class=\"dataframe\">\n",
       "  <thead>\n",
       "    <tr style=\"text-align: right;\">\n",
       "      <th></th>\n",
       "      <th>A</th>\n",
       "      <th>B</th>\n",
       "      <th>C</th>\n",
       "      <th>D</th>\n",
       "      <th>E</th>\n",
       "      <th>F</th>\n",
       "      <th>G</th>\n",
       "      <th>H</th>\n",
       "      <th>I</th>\n",
       "      <th>J</th>\n",
       "    </tr>\n",
       "  </thead>\n",
       "  <tbody>\n",
       "    <tr>\n",
       "      <th>2021-01-01 00:00:00</th>\n",
       "      <td>-1.3378</td>\n",
       "      <td>0.1268</td>\n",
       "      <td>-0.3645</td>\n",
       "      <td>-1.0864</td>\n",
       "      <td>-2.3803</td>\n",
       "      <td>-0.2447</td>\n",
       "      <td>2.2647</td>\n",
       "      <td>-0.7917</td>\n",
       "      <td>0.7071</td>\n",
       "      <td>1.3763</td>\n",
       "    </tr>\n",
       "    <tr>\n",
       "      <th>2021-01-01 01:00:00</th>\n",
       "      <td>-1.6111</td>\n",
       "      <td>0.0926</td>\n",
       "      <td>-0.1364</td>\n",
       "      <td>-1.1613</td>\n",
       "      <td>-2.1421</td>\n",
       "      <td>-0.3477</td>\n",
       "      <td>2.4262</td>\n",
       "      <td>-0.9609</td>\n",
       "      <td>0.6413</td>\n",
       "      <td>1.2750</td>\n",
       "    </tr>\n",
       "    <tr>\n",
       "      <th>2021-01-01 02:00:00</th>\n",
       "      <td>-1.9259</td>\n",
       "      <td>-0.1420</td>\n",
       "      <td>0.1063</td>\n",
       "      <td>-1.0405</td>\n",
       "      <td>-2.1426</td>\n",
       "      <td>-0.3271</td>\n",
       "      <td>2.4434</td>\n",
       "      <td>-0.9034</td>\n",
       "      <td>0.4323</td>\n",
       "      <td>0.6767</td>\n",
       "    </tr>\n",
       "    <tr>\n",
       "      <th>2021-01-01 03:00:00</th>\n",
       "      <td>-1.9184</td>\n",
       "      <td>-0.4930</td>\n",
       "      <td>0.6269</td>\n",
       "      <td>-0.8531</td>\n",
       "      <td>-1.7060</td>\n",
       "      <td>-0.3088</td>\n",
       "      <td>2.4307</td>\n",
       "      <td>-0.9602</td>\n",
       "      <td>0.3193</td>\n",
       "      <td>0.5150</td>\n",
       "    </tr>\n",
       "    <tr>\n",
       "      <th>2021-01-01 04:00:00</th>\n",
       "      <td>-1.9168</td>\n",
       "      <td>-0.5057</td>\n",
       "      <td>0.9419</td>\n",
       "      <td>-0.7666</td>\n",
       "      <td>-1.4287</td>\n",
       "      <td>-0.4284</td>\n",
       "      <td>2.3258</td>\n",
       "      <td>-1.2504</td>\n",
       "      <td>0.3660</td>\n",
       "      <td>0.1708</td>\n",
       "    </tr>\n",
       "  </tbody>\n",
       "</table>\n",
       "</div>"
      ]
     },
     "metadata": {},
     "output_type": "display_data"
    },
    {
     "name": "stdout",
     "output_type": "stream",
     "text": [
      "(240, 10)\n"
     ]
    }
   ],
   "execution_count": 9
  },
  {
   "metadata": {
    "ExecuteTime": {
     "end_time": "2024-08-20T21:44:30.283042Z",
     "start_time": "2024-08-20T21:44:30.269963Z"
    }
   },
   "cell_type": "code",
   "source": "print(df.shape)",
   "id": "b509032d995ea8e8",
   "outputs": [
    {
     "name": "stdout",
     "output_type": "stream",
     "text": [
      "(240, 10)\n"
     ]
    }
   ],
   "execution_count": 11
  },
  {
   "metadata": {},
   "cell_type": "markdown",
   "source": [
    "### Background GluonTS\n",
    "The authors explain, the reasoning behind the gluonTS data loader as the data loader of choice, by the fact that it provides very useful functionalities: \n",
    "- Splitting the data set into training and test data set\n",
    "- Performing rolling evaluation\n",
    "- Converting from pandas data frame to gluonTS data set\n",
    "\n",
    "We have imported earlier `PandasDataset` and `split` from the gluonTS package. We will use these functionalities to split the data set into training and test data set."
   ],
   "id": "1d7bb0655ba7613c"
  },
  {
   "metadata": {
    "ExecuteTime": {
     "end_time": "2024-08-20T22:00:18.994539Z",
     "start_time": "2024-08-20T22:00:18.971518Z"
    }
   },
   "cell_type": "code",
   "source": "data_set = PandasDataset(dict(df))",
   "id": "1c43d7924d0dae99",
   "outputs": [
    {
     "data": {
      "text/plain": [
       "PandasDataset<size=10, freq=H, num_feat_dynamic_real=0, num_past_feat_dynamic_real=0, num_feat_static_real=0, num_feat_static_cat=0, static_cardinalities=[]>"
      ]
     },
     "metadata": {},
     "output_type": "display_data"
    }
   ],
   "execution_count": 13
  },
  {
   "metadata": {
    "ExecuteTime": {
     "end_time": "2024-08-20T22:50:07.985043Z",
     "start_time": "2024-08-20T22:50:07.971306Z"
    }
   },
   "cell_type": "code",
   "source": [
    "train, test_template = split(\n",
    "    data_set, offset=-TEST\n",
    ") "
   ],
   "id": "5819436fb1c1784f",
   "outputs": [],
   "execution_count": 89
  },
  {
   "metadata": {},
   "cell_type": "markdown",
   "source": [
    "### Rolling Window Evaluation\n",
    "The rolling window evaluation is a technique to evaluate the model on a test data set. The model is trained on a training data set and then evaluated on a test data set. The evaluation is done in a rolling window fashion, where the model is evaluated on a set of windows. The windows are in this case non-overlapping (set by the distance between the windows, which in our case is the prediction length). The model is evaluated on each window and the evaluation metrics are the average over all windows."
   ],
   "id": "4ce75012a0c44420"
  },
  {
   "metadata": {
    "ExecuteTime": {
     "end_time": "2024-08-20T22:50:10.679384Z",
     "start_time": "2024-08-20T22:50:10.666508Z"
    }
   },
   "cell_type": "code",
   "source": [
    "test_data = test_template.generate_instances(\n",
    "    prediction_length=PREDICTION_LENGTH,  # number of time steps for each prediction\n",
    "    windows=TEST // PREDICTION_LENGTH,  # number of windows in rolling window evaluation\n",
    "    distance=PREDICTION_LENGTH # number of time steps between each window - distance=PDT for non-overlapping windows\n",
    ")"
   ],
   "id": "498651b065009d56",
   "outputs": [],
   "execution_count": 90
  },
  {
   "metadata": {},
   "cell_type": "markdown",
   "source": [
    "### Model Initialization\n",
    "The model now is pulled from HuggingFace. The model is a pre-trained model and will now be  fine-tuned on the training data set.\n",
    "\n",
    "### The MoiraiForecast Model\n",
    "The Moirai Model is a transformer architecture, to be precise `moirai` is masked encoder based transformer architecture.\n",
    "\n",
    "- masked: `masked` TODO\n",
    "- encoder based: `encoder based` means that the model is based on the transformer encoder architecture and thus has access to all the input at every stage.\n",
    "- transformer: `transformer` is a deep learning architecture that is based on the attention mechanism. The attention mechanism allows the model to focus on certain parts of the input sequence. The transformer architecture originated and gained popularity in the natural language processing domain.\n"
   ],
   "id": "b161d430db5f37ba"
  },
  {
   "metadata": {
    "ExecuteTime": {
     "end_time": "2024-08-20T22:50:13.834930Z",
     "start_time": "2024-08-20T22:50:13.361705Z"
    }
   },
   "cell_type": "code",
   "source": [
    "# Prepare pre-trained model by downloading model weights from huggingface hub\n",
    "model = MoiraiForecast(\n",
    "    module=MoiraiModule.from_pretrained(f\"Salesforce/moirai-1.0-R-{SIZE}\"),\n",
    "    prediction_length=PREDICTION_LENGTH,\n",
    "    context_length=CONTEXT_LENGTH,\n",
    "    patch_size=PATCH_SIZE,\n",
    "    num_samples=100,\n",
    "    target_dim=1,\n",
    "    feat_dynamic_real_dim=data_set.num_feat_dynamic_real,\n",
    "    past_feat_dynamic_real_dim=data_set.num_past_feat_dynamic_real\n",
    ")"
   ],
   "id": "930f47f08d9040d4",
   "outputs": [],
   "execution_count": 91
  },
  {
   "metadata": {
    "ExecuteTime": {
     "end_time": "2024-08-20T22:50:15.752259Z",
     "start_time": "2024-08-20T22:50:15.505269Z"
    }
   },
   "cell_type": "code",
   "source": [
    "predictor = model.create_predictor(batch_size=BATCH_SIZE)\n",
    "forecasts = predictor.predict(test_data.input)\n",
    "\n",
    "input_it = iter(test_data.input)\n",
    "label_it = iter(test_data.label)\n",
    "forecast_it = iter(forecasts)\n",
    "\n",
    "inp = next(input_it)\n",
    "label = next(label_it)\n",
    "forecast = next(forecast_it)"
   ],
   "id": "9ed327c284832d71",
   "outputs": [],
   "execution_count": 92
  },
  {
   "metadata": {
    "ExecuteTime": {
     "end_time": "2024-08-20T22:50:17.770303Z",
     "start_time": "2024-08-20T22:50:17.619698Z"
    }
   },
   "cell_type": "code",
   "source": [
    "plot_single(\n",
    "    inp, \n",
    "    label, \n",
    "    forecast, \n",
    "    context_length=100,\n",
    "    name=\"pred\",\n",
    "    show_label=True,\n",
    ")\n",
    "plt.show()"
   ],
   "id": "beb3a0e99a5d0984",
   "outputs": [
    {
     "data": {
      "text/plain": [
       "<Figure size 640x480 with 1 Axes>"
      ],
      "image/png": "[encoded data removed]"
     },
     "metadata": {},
     "output_type": "display_data"
    }
   ],
   "execution_count": 93
  }
 ],
 "metadata": {
  "kernelspec": {
   "display_name": "Python 3",
   "language": "python",
   "name": "python3"
  },
  "language_info": {
   "codemirror_mode": {
    "name": "ipython",
    "version": 2
   },
   "file_extension": ".py",
   "mimetype": "text/x-python",
   "name": "python",
   "nbconvert_exporter": "python",
   "pygments_lexer": "ipython2",
   "version": "2.7.6"
  }
 },
 "nbformat": 4,
 "nbformat_minor": 5
}
